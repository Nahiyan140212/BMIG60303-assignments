{
 "cells": [
  {
   "cell_type": "code",
   "execution_count": 2,
   "id": "cdb1d01f",
   "metadata": {},
   "outputs": [],
   "source": [
    "import spacy\n",
    "from nltk.stem import *"
   ]
  },
  {
   "cell_type": "code",
   "execution_count": 3,
   "id": "3fddc9e2",
   "metadata": {},
   "outputs": [],
   "source": [
    "nlp = spacy.load(\"en_core_web_sm\")"
   ]
  },
  {
   "cell_type": "code",
   "execution_count": 5,
   "id": "52491099",
   "metadata": {},
   "outputs": [],
   "source": [
    "ps = PorterStemmer()"
   ]
  },
  {
   "cell_type": "code",
   "execution_count": 6,
   "id": "6181fe7a",
   "metadata": {},
   "outputs": [],
   "source": [
    "sentence = \"The cats are playing with the ball and chasing butterflies.\""
   ]
  },
  {
   "cell_type": "code",
   "execution_count": 17,
   "id": "a95fb8a4",
   "metadata": {},
   "outputs": [],
   "source": [
    "s = sentence.split()"
   ]
  },
  {
   "cell_type": "code",
   "execution_count": 19,
   "id": "ef9a17b9",
   "metadata": {},
   "outputs": [
    {
     "name": "stdout",
     "output_type": "stream",
     "text": [
      "['The', 'cats', 'are', 'playing', 'with', 'the', 'ball', 'and', 'chasing', 'butterflies.']\n"
     ]
    }
   ],
   "source": [
    "print(s)"
   ]
  },
  {
   "cell_type": "code",
   "execution_count": 27,
   "id": "bf053edd",
   "metadata": {},
   "outputs": [],
   "source": [
    "l = [ps.stem(s) for s in s]"
   ]
  },
  {
   "cell_type": "code",
   "execution_count": 28,
   "id": "2acc5483",
   "metadata": {},
   "outputs": [
    {
     "data": {
      "text/plain": [
       "['the',\n",
       " 'cat',\n",
       " 'are',\n",
       " 'play',\n",
       " 'with',\n",
       " 'the',\n",
       " 'ball',\n",
       " 'and',\n",
       " 'chase',\n",
       " 'butterflies.']"
      ]
     },
     "execution_count": 28,
     "metadata": {},
     "output_type": "execute_result"
    }
   ],
   "source": [
    "l"
   ]
  },
  {
   "cell_type": "code",
   "execution_count": null,
   "id": "d722fa68",
   "metadata": {},
   "outputs": [],
   "source": []
  }
 ],
 "metadata": {
  "kernelspec": {
   "display_name": "NLP",
   "language": "python",
   "name": "python3"
  },
  "language_info": {
   "codemirror_mode": {
    "name": "ipython",
    "version": 3
   },
   "file_extension": ".py",
   "mimetype": "text/x-python",
   "name": "python",
   "nbconvert_exporter": "python",
   "pygments_lexer": "ipython3",
   "version": "3.11.13"
  }
 },
 "nbformat": 4,
 "nbformat_minor": 5
}
